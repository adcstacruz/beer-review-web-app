{
 "cells": [
  {
   "cell_type": "code",
   "execution_count": 1,
   "id": "0083194f",
   "metadata": {},
   "outputs": [],
   "source": [
    "%load_ext autoreload\n",
    "%autoreload 2"
   ]
  },
  {
   "cell_type": "code",
   "execution_count": 2,
   "id": "5e223741",
   "metadata": {},
   "outputs": [],
   "source": [
    "import pandas as pd\n",
    "from sklearn.preprocessing import StandardScaler, OneHotEncoder\n",
    "from sklearn.compose import ColumnTransformer\n",
    "from sklearn.pipeline import Pipeline\n",
    "from sklearn.neighbors import KNeighborsClassifier\n",
    "from sklearn.model_selection import train_test_split,  GridSearchCV\n",
    "from sklearn.metrics import accuracy_score, precision_score, recall_score, f1_score, roc_auc_score, roc_curve, confusion_matrix"
   ]
  },
  {
   "cell_type": "markdown",
   "id": "4f91b7dc",
   "metadata": {},
   "source": [
    "## 1. Load Data"
   ]
  },
  {
   "cell_type": "code",
   "execution_count": 3,
   "id": "8d19f362",
   "metadata": {},
   "outputs": [],
   "source": [
    "# Parameters\n",
    "response = 'beer_style'\n",
    "cat_features = ['brewery_name']\n",
    "num_features = [\n",
    "    'review_aroma', 'review_appearance',\n",
    "    'review_palate', 'review_taste',\n",
    "    'beer_abv'\n",
    "]\n",
    "\n",
    "features = cat_features + num_features"
   ]
  },
  {
   "cell_type": "code",
   "execution_count": 4,
   "id": "0e44c7af",
   "metadata": {},
   "outputs": [],
   "source": [
    "# Load actual data \n",
    "beer_df = pd.read_csv('../data/beer_reviews.csv')\n",
    "\n",
    "# Select only relevant information\n",
    "beer_df = beer_df[features + [response]]"
   ]
  },
  {
   "cell_type": "code",
   "execution_count": 5,
   "id": "ab524462",
   "metadata": {},
   "outputs": [
    {
     "data": {
      "text/plain": [
       "Index(['brewery_name', 'review_aroma', 'review_appearance', 'review_palate',\n",
       "       'review_taste', 'beer_abv', 'beer_style'],\n",
       "      dtype='object')"
      ]
     },
     "execution_count": 5,
     "metadata": {},
     "output_type": "execute_result"
    }
   ],
   "source": [
    "beer_df.columns"
   ]
  },
  {
   "cell_type": "markdown",
   "id": "3f716b12",
   "metadata": {},
   "source": [
    "## 2. EDA "
   ]
  },
  {
   "cell_type": "markdown",
   "id": "473fed3f",
   "metadata": {},
   "source": [
    "Examine instances"
   ]
  },
  {
   "cell_type": "code",
   "execution_count": 6,
   "id": "d493648e",
   "metadata": {},
   "outputs": [
    {
     "data": {
      "text/html": [
       "<div>\n",
       "<style scoped>\n",
       "    .dataframe tbody tr th:only-of-type {\n",
       "        vertical-align: middle;\n",
       "    }\n",
       "\n",
       "    .dataframe tbody tr th {\n",
       "        vertical-align: top;\n",
       "    }\n",
       "\n",
       "    .dataframe thead th {\n",
       "        text-align: right;\n",
       "    }\n",
       "</style>\n",
       "<table border=\"1\" class=\"dataframe\">\n",
       "  <thead>\n",
       "    <tr style=\"text-align: right;\">\n",
       "      <th></th>\n",
       "      <th>brewery_name</th>\n",
       "      <th>review_aroma</th>\n",
       "      <th>review_appearance</th>\n",
       "      <th>review_palate</th>\n",
       "      <th>review_taste</th>\n",
       "      <th>beer_abv</th>\n",
       "      <th>beer_style</th>\n",
       "    </tr>\n",
       "  </thead>\n",
       "  <tbody>\n",
       "    <tr>\n",
       "      <th>0</th>\n",
       "      <td>Vecchio Birraio</td>\n",
       "      <td>2.0</td>\n",
       "      <td>2.5</td>\n",
       "      <td>1.5</td>\n",
       "      <td>1.5</td>\n",
       "      <td>5.0</td>\n",
       "      <td>Hefeweizen</td>\n",
       "    </tr>\n",
       "    <tr>\n",
       "      <th>1</th>\n",
       "      <td>Vecchio Birraio</td>\n",
       "      <td>2.5</td>\n",
       "      <td>3.0</td>\n",
       "      <td>3.0</td>\n",
       "      <td>3.0</td>\n",
       "      <td>6.2</td>\n",
       "      <td>English Strong Ale</td>\n",
       "    </tr>\n",
       "    <tr>\n",
       "      <th>2</th>\n",
       "      <td>Vecchio Birraio</td>\n",
       "      <td>2.5</td>\n",
       "      <td>3.0</td>\n",
       "      <td>3.0</td>\n",
       "      <td>3.0</td>\n",
       "      <td>6.5</td>\n",
       "      <td>Foreign / Export Stout</td>\n",
       "    </tr>\n",
       "    <tr>\n",
       "      <th>3</th>\n",
       "      <td>Vecchio Birraio</td>\n",
       "      <td>3.0</td>\n",
       "      <td>3.5</td>\n",
       "      <td>2.5</td>\n",
       "      <td>3.0</td>\n",
       "      <td>5.0</td>\n",
       "      <td>German Pilsener</td>\n",
       "    </tr>\n",
       "    <tr>\n",
       "      <th>4</th>\n",
       "      <td>Caldera Brewing Company</td>\n",
       "      <td>4.5</td>\n",
       "      <td>4.0</td>\n",
       "      <td>4.0</td>\n",
       "      <td>4.5</td>\n",
       "      <td>7.7</td>\n",
       "      <td>American Double / Imperial IPA</td>\n",
       "    </tr>\n",
       "  </tbody>\n",
       "</table>\n",
       "</div>"
      ],
      "text/plain": [
       "              brewery_name  review_aroma  review_appearance  review_palate  \\\n",
       "0          Vecchio Birraio           2.0                2.5            1.5   \n",
       "1          Vecchio Birraio           2.5                3.0            3.0   \n",
       "2          Vecchio Birraio           2.5                3.0            3.0   \n",
       "3          Vecchio Birraio           3.0                3.5            2.5   \n",
       "4  Caldera Brewing Company           4.5                4.0            4.0   \n",
       "\n",
       "   review_taste  beer_abv                      beer_style  \n",
       "0           1.5       5.0                      Hefeweizen  \n",
       "1           3.0       6.2              English Strong Ale  \n",
       "2           3.0       6.5          Foreign / Export Stout  \n",
       "3           3.0       5.0                 German Pilsener  \n",
       "4           4.5       7.7  American Double / Imperial IPA  "
      ]
     },
     "execution_count": 6,
     "metadata": {},
     "output_type": "execute_result"
    }
   ],
   "source": [
    "beer_df.head()"
   ]
  },
  {
   "cell_type": "markdown",
   "id": "dcfbeba5",
   "metadata": {},
   "source": [
    "Check unique values for each feature"
   ]
  },
  {
   "cell_type": "code",
   "execution_count": 7,
   "id": "47b77180",
   "metadata": {},
   "outputs": [
    {
     "data": {
      "text/plain": [
       "brewery_name         5742\n",
       "review_aroma            9\n",
       "review_appearance      10\n",
       "review_palate           9\n",
       "review_taste            9\n",
       "beer_abv              530\n",
       "beer_style            104\n",
       "dtype: int64"
      ]
     },
     "execution_count": 7,
     "metadata": {},
     "output_type": "execute_result"
    }
   ],
   "source": [
    "beer_df.nunique()"
   ]
  },
  {
   "cell_type": "markdown",
   "id": "16a1e3cc",
   "metadata": {},
   "source": [
    "Check shape of dataset"
   ]
  },
  {
   "cell_type": "code",
   "execution_count": 8,
   "id": "fde00bd2",
   "metadata": {},
   "outputs": [
    {
     "data": {
      "text/plain": [
       "(1586614, 7)"
      ]
     },
     "execution_count": 8,
     "metadata": {},
     "output_type": "execute_result"
    }
   ],
   "source": [
    "beer_df.shape"
   ]
  },
  {
   "cell_type": "markdown",
   "id": "c6e69819",
   "metadata": {},
   "source": [
    "Check null values"
   ]
  },
  {
   "cell_type": "code",
   "execution_count": 9,
   "id": "309d4cae",
   "metadata": {},
   "outputs": [
    {
     "data": {
      "text/plain": [
       "brewery_name            15\n",
       "review_aroma             0\n",
       "review_appearance        0\n",
       "review_palate            0\n",
       "review_taste             0\n",
       "beer_abv             67785\n",
       "beer_style               0\n",
       "dtype: int64"
      ]
     },
     "execution_count": 9,
     "metadata": {},
     "output_type": "execute_result"
    }
   ],
   "source": [
    "beer_df.isnull().sum()"
   ]
  },
  {
   "cell_type": "code",
   "execution_count": 10,
   "id": "af5081cc",
   "metadata": {},
   "outputs": [
    {
     "data": {
      "text/html": [
       "<div>\n",
       "<style scoped>\n",
       "    .dataframe tbody tr th:only-of-type {\n",
       "        vertical-align: middle;\n",
       "    }\n",
       "\n",
       "    .dataframe tbody tr th {\n",
       "        vertical-align: top;\n",
       "    }\n",
       "\n",
       "    .dataframe thead th {\n",
       "        text-align: right;\n",
       "    }\n",
       "</style>\n",
       "<table border=\"1\" class=\"dataframe\">\n",
       "  <thead>\n",
       "    <tr style=\"text-align: right;\">\n",
       "      <th></th>\n",
       "      <th>brewery_name</th>\n",
       "      <th>review_aroma</th>\n",
       "      <th>review_appearance</th>\n",
       "      <th>review_palate</th>\n",
       "      <th>review_taste</th>\n",
       "      <th>beer_abv</th>\n",
       "      <th>beer_style</th>\n",
       "    </tr>\n",
       "  </thead>\n",
       "  <tbody>\n",
       "    <tr>\n",
       "      <th>273</th>\n",
       "      <td>Caldera Brewing Company</td>\n",
       "      <td>3.0</td>\n",
       "      <td>3.0</td>\n",
       "      <td>4.0</td>\n",
       "      <td>3.0</td>\n",
       "      <td>NaN</td>\n",
       "      <td>American Stout</td>\n",
       "    </tr>\n",
       "    <tr>\n",
       "      <th>430</th>\n",
       "      <td>Moon River Brewing Company</td>\n",
       "      <td>4.0</td>\n",
       "      <td>4.5</td>\n",
       "      <td>3.5</td>\n",
       "      <td>3.5</td>\n",
       "      <td>NaN</td>\n",
       "      <td>Scotch Ale / Wee Heavy</td>\n",
       "    </tr>\n",
       "    <tr>\n",
       "      <th>603</th>\n",
       "      <td>Moon River Brewing Company</td>\n",
       "      <td>3.5</td>\n",
       "      <td>4.0</td>\n",
       "      <td>3.5</td>\n",
       "      <td>3.5</td>\n",
       "      <td>NaN</td>\n",
       "      <td>Scotch Ale / Wee Heavy</td>\n",
       "    </tr>\n",
       "    <tr>\n",
       "      <th>733</th>\n",
       "      <td>Caldera Brewing Company</td>\n",
       "      <td>4.0</td>\n",
       "      <td>4.0</td>\n",
       "      <td>4.0</td>\n",
       "      <td>4.0</td>\n",
       "      <td>NaN</td>\n",
       "      <td>American IPA</td>\n",
       "    </tr>\n",
       "    <tr>\n",
       "      <th>798</th>\n",
       "      <td>Caldera Brewing Company</td>\n",
       "      <td>4.5</td>\n",
       "      <td>4.0</td>\n",
       "      <td>4.0</td>\n",
       "      <td>4.5</td>\n",
       "      <td>NaN</td>\n",
       "      <td>American Double / Imperial Stout</td>\n",
       "    </tr>\n",
       "    <tr>\n",
       "      <th>...</th>\n",
       "      <td>...</td>\n",
       "      <td>...</td>\n",
       "      <td>...</td>\n",
       "      <td>...</td>\n",
       "      <td>...</td>\n",
       "      <td>...</td>\n",
       "      <td>...</td>\n",
       "    </tr>\n",
       "    <tr>\n",
       "      <th>1586568</th>\n",
       "      <td>The Defiant Brewing Company</td>\n",
       "      <td>3.5</td>\n",
       "      <td>4.0</td>\n",
       "      <td>4.0</td>\n",
       "      <td>4.0</td>\n",
       "      <td>NaN</td>\n",
       "      <td>Bock</td>\n",
       "    </tr>\n",
       "    <tr>\n",
       "      <th>1586587</th>\n",
       "      <td>The Defiant Brewing Company</td>\n",
       "      <td>4.5</td>\n",
       "      <td>4.0</td>\n",
       "      <td>4.5</td>\n",
       "      <td>4.0</td>\n",
       "      <td>NaN</td>\n",
       "      <td>Maibock / Helles Bock</td>\n",
       "    </tr>\n",
       "    <tr>\n",
       "      <th>1586596</th>\n",
       "      <td>The Defiant Brewing Company</td>\n",
       "      <td>3.0</td>\n",
       "      <td>5.0</td>\n",
       "      <td>4.0</td>\n",
       "      <td>3.5</td>\n",
       "      <td>NaN</td>\n",
       "      <td>Belgian Strong Pale Ale</td>\n",
       "    </tr>\n",
       "    <tr>\n",
       "      <th>1586597</th>\n",
       "      <td>The Defiant Brewing Company</td>\n",
       "      <td>4.5</td>\n",
       "      <td>4.0</td>\n",
       "      <td>4.0</td>\n",
       "      <td>4.0</td>\n",
       "      <td>NaN</td>\n",
       "      <td>Belgian Strong Pale Ale</td>\n",
       "    </tr>\n",
       "    <tr>\n",
       "      <th>1586598</th>\n",
       "      <td>The Defiant Brewing Company</td>\n",
       "      <td>4.0</td>\n",
       "      <td>3.5</td>\n",
       "      <td>4.0</td>\n",
       "      <td>4.5</td>\n",
       "      <td>NaN</td>\n",
       "      <td>Belgian Strong Pale Ale</td>\n",
       "    </tr>\n",
       "  </tbody>\n",
       "</table>\n",
       "<p>67785 rows × 7 columns</p>\n",
       "</div>"
      ],
      "text/plain": [
       "                        brewery_name  review_aroma  review_appearance  \\\n",
       "273          Caldera Brewing Company           3.0                3.0   \n",
       "430       Moon River Brewing Company           4.0                4.5   \n",
       "603       Moon River Brewing Company           3.5                4.0   \n",
       "733          Caldera Brewing Company           4.0                4.0   \n",
       "798          Caldera Brewing Company           4.5                4.0   \n",
       "...                              ...           ...                ...   \n",
       "1586568  The Defiant Brewing Company           3.5                4.0   \n",
       "1586587  The Defiant Brewing Company           4.5                4.0   \n",
       "1586596  The Defiant Brewing Company           3.0                5.0   \n",
       "1586597  The Defiant Brewing Company           4.5                4.0   \n",
       "1586598  The Defiant Brewing Company           4.0                3.5   \n",
       "\n",
       "         review_palate  review_taste  beer_abv  \\\n",
       "273                4.0           3.0       NaN   \n",
       "430                3.5           3.5       NaN   \n",
       "603                3.5           3.5       NaN   \n",
       "733                4.0           4.0       NaN   \n",
       "798                4.0           4.5       NaN   \n",
       "...                ...           ...       ...   \n",
       "1586568            4.0           4.0       NaN   \n",
       "1586587            4.5           4.0       NaN   \n",
       "1586596            4.0           3.5       NaN   \n",
       "1586597            4.0           4.0       NaN   \n",
       "1586598            4.0           4.5       NaN   \n",
       "\n",
       "                               beer_style  \n",
       "273                        American Stout  \n",
       "430                Scotch Ale / Wee Heavy  \n",
       "603                Scotch Ale / Wee Heavy  \n",
       "733                          American IPA  \n",
       "798      American Double / Imperial Stout  \n",
       "...                                   ...  \n",
       "1586568                              Bock  \n",
       "1586587             Maibock / Helles Bock  \n",
       "1586596           Belgian Strong Pale Ale  \n",
       "1586597           Belgian Strong Pale Ale  \n",
       "1586598           Belgian Strong Pale Ale  \n",
       "\n",
       "[67785 rows x 7 columns]"
      ]
     },
     "execution_count": 10,
     "metadata": {},
     "output_type": "execute_result"
    }
   ],
   "source": [
    "beer_df[beer_df['beer_abv'].isnull()]"
   ]
  },
  {
   "cell_type": "markdown",
   "id": "752fd2f7",
   "metadata": {},
   "source": [
    "Examine what feature will not exist if values with null `beer_abv` values are omitted. NOTE: Approach for this is to omit the instances will null `beer_abv` since all of the classes can still be represented. Something to explore is to perform imputation techniques. "
   ]
  },
  {
   "cell_type": "code",
   "execution_count": 11,
   "id": "8cd60122",
   "metadata": {},
   "outputs": [
    {
     "name": "stdout",
     "output_type": "stream",
     "text": [
      "set()\n"
     ]
    }
   ],
   "source": [
    "not_in_fulldataset = set(\n",
    "    beer_df['beer_style']\n",
    ") - set(\n",
    "    beer_df[~beer_df['beer_abv'].isnull()]['beer_style']\n",
    ")\n",
    "\n",
    "print(not_in_fulldataset)"
   ]
  },
  {
   "cell_type": "code",
   "execution_count": 12,
   "id": "6a38911d",
   "metadata": {},
   "outputs": [
    {
     "data": {
      "text/plain": [
       "104"
      ]
     },
     "execution_count": 12,
     "metadata": {},
     "output_type": "execute_result"
    }
   ],
   "source": [
    "beer_df.loc[~beer_df['beer_abv'].isnull()][response].nunique()"
   ]
  },
  {
   "cell_type": "markdown",
   "id": "42297fe9",
   "metadata": {},
   "source": [
    "Check distribution of response"
   ]
  },
  {
   "cell_type": "code",
   "execution_count": 13,
   "id": "3b384e41",
   "metadata": {},
   "outputs": [
    {
     "data": {
      "text/plain": [
       "American Pale Ale (APA)            5388\n",
       "American IPA                       4422\n",
       "American Amber / Red Ale           4011\n",
       "American Porter                    3827\n",
       "Hefeweizen                         1980\n",
       "                                   ... \n",
       "Eisbock                              16\n",
       "Japanese Rice Lager                  13\n",
       "Euro Strong Lager                     9\n",
       "Bière de Champagne / Bière Brut       5\n",
       "Happoshu                              4\n",
       "Name: beer_style, Length: 103, dtype: int64"
      ]
     },
     "execution_count": 13,
     "metadata": {},
     "output_type": "execute_result"
    }
   ],
   "source": [
    "beer_df.loc[beer_df['beer_abv'].isnull()][response].value_counts()"
   ]
  },
  {
   "cell_type": "markdown",
   "id": "0f44882b",
   "metadata": {},
   "source": [
    "Examine basic statistics"
   ]
  },
  {
   "cell_type": "code",
   "execution_count": 14,
   "id": "7e99caa0",
   "metadata": {},
   "outputs": [
    {
     "data": {
      "text/html": [
       "<div>\n",
       "<style scoped>\n",
       "    .dataframe tbody tr th:only-of-type {\n",
       "        vertical-align: middle;\n",
       "    }\n",
       "\n",
       "    .dataframe tbody tr th {\n",
       "        vertical-align: top;\n",
       "    }\n",
       "\n",
       "    .dataframe thead th {\n",
       "        text-align: right;\n",
       "    }\n",
       "</style>\n",
       "<table border=\"1\" class=\"dataframe\">\n",
       "  <thead>\n",
       "    <tr style=\"text-align: right;\">\n",
       "      <th></th>\n",
       "      <th>review_aroma</th>\n",
       "      <th>review_appearance</th>\n",
       "      <th>review_palate</th>\n",
       "      <th>review_taste</th>\n",
       "      <th>beer_abv</th>\n",
       "    </tr>\n",
       "  </thead>\n",
       "  <tbody>\n",
       "    <tr>\n",
       "      <th>count</th>\n",
       "      <td>1.586614e+06</td>\n",
       "      <td>1.586614e+06</td>\n",
       "      <td>1.586614e+06</td>\n",
       "      <td>1.586614e+06</td>\n",
       "      <td>1.518829e+06</td>\n",
       "    </tr>\n",
       "    <tr>\n",
       "      <th>mean</th>\n",
       "      <td>3.735636e+00</td>\n",
       "      <td>3.841642e+00</td>\n",
       "      <td>3.743701e+00</td>\n",
       "      <td>3.792860e+00</td>\n",
       "      <td>7.042387e+00</td>\n",
       "    </tr>\n",
       "    <tr>\n",
       "      <th>std</th>\n",
       "      <td>6.976167e-01</td>\n",
       "      <td>6.160928e-01</td>\n",
       "      <td>6.822184e-01</td>\n",
       "      <td>7.319696e-01</td>\n",
       "      <td>2.322526e+00</td>\n",
       "    </tr>\n",
       "    <tr>\n",
       "      <th>min</th>\n",
       "      <td>1.000000e+00</td>\n",
       "      <td>0.000000e+00</td>\n",
       "      <td>1.000000e+00</td>\n",
       "      <td>1.000000e+00</td>\n",
       "      <td>1.000000e-02</td>\n",
       "    </tr>\n",
       "    <tr>\n",
       "      <th>25%</th>\n",
       "      <td>3.500000e+00</td>\n",
       "      <td>3.500000e+00</td>\n",
       "      <td>3.500000e+00</td>\n",
       "      <td>3.500000e+00</td>\n",
       "      <td>5.200000e+00</td>\n",
       "    </tr>\n",
       "    <tr>\n",
       "      <th>50%</th>\n",
       "      <td>4.000000e+00</td>\n",
       "      <td>4.000000e+00</td>\n",
       "      <td>4.000000e+00</td>\n",
       "      <td>4.000000e+00</td>\n",
       "      <td>6.500000e+00</td>\n",
       "    </tr>\n",
       "    <tr>\n",
       "      <th>75%</th>\n",
       "      <td>4.000000e+00</td>\n",
       "      <td>4.000000e+00</td>\n",
       "      <td>4.000000e+00</td>\n",
       "      <td>4.500000e+00</td>\n",
       "      <td>8.500000e+00</td>\n",
       "    </tr>\n",
       "    <tr>\n",
       "      <th>max</th>\n",
       "      <td>5.000000e+00</td>\n",
       "      <td>5.000000e+00</td>\n",
       "      <td>5.000000e+00</td>\n",
       "      <td>5.000000e+00</td>\n",
       "      <td>5.770000e+01</td>\n",
       "    </tr>\n",
       "  </tbody>\n",
       "</table>\n",
       "</div>"
      ],
      "text/plain": [
       "       review_aroma  review_appearance  review_palate  review_taste  \\\n",
       "count  1.586614e+06       1.586614e+06   1.586614e+06  1.586614e+06   \n",
       "mean   3.735636e+00       3.841642e+00   3.743701e+00  3.792860e+00   \n",
       "std    6.976167e-01       6.160928e-01   6.822184e-01  7.319696e-01   \n",
       "min    1.000000e+00       0.000000e+00   1.000000e+00  1.000000e+00   \n",
       "25%    3.500000e+00       3.500000e+00   3.500000e+00  3.500000e+00   \n",
       "50%    4.000000e+00       4.000000e+00   4.000000e+00  4.000000e+00   \n",
       "75%    4.000000e+00       4.000000e+00   4.000000e+00  4.500000e+00   \n",
       "max    5.000000e+00       5.000000e+00   5.000000e+00  5.000000e+00   \n",
       "\n",
       "           beer_abv  \n",
       "count  1.518829e+06  \n",
       "mean   7.042387e+00  \n",
       "std    2.322526e+00  \n",
       "min    1.000000e-02  \n",
       "25%    5.200000e+00  \n",
       "50%    6.500000e+00  \n",
       "75%    8.500000e+00  \n",
       "max    5.770000e+01  "
      ]
     },
     "execution_count": 14,
     "metadata": {},
     "output_type": "execute_result"
    }
   ],
   "source": [
    "beer_df.describe()"
   ]
  },
  {
   "cell_type": "code",
   "execution_count": 15,
   "id": "cc412b3b",
   "metadata": {},
   "outputs": [
    {
     "name": "stderr",
     "output_type": "stream",
     "text": [
      "/var/folders/jv/sw0d1s6j15z_6c7b1n6xh1qm0000gn/T/ipykernel_6767/979567980.py:1: FutureWarning: The default value of numeric_only in DataFrame.corr is deprecated. In a future version, it will default to False. Select only valid columns or specify the value of numeric_only to silence this warning.\n",
      "  beer_df.corr()\n"
     ]
    },
    {
     "data": {
      "text/html": [
       "<div>\n",
       "<style scoped>\n",
       "    .dataframe tbody tr th:only-of-type {\n",
       "        vertical-align: middle;\n",
       "    }\n",
       "\n",
       "    .dataframe tbody tr th {\n",
       "        vertical-align: top;\n",
       "    }\n",
       "\n",
       "    .dataframe thead th {\n",
       "        text-align: right;\n",
       "    }\n",
       "</style>\n",
       "<table border=\"1\" class=\"dataframe\">\n",
       "  <thead>\n",
       "    <tr style=\"text-align: right;\">\n",
       "      <th></th>\n",
       "      <th>review_aroma</th>\n",
       "      <th>review_appearance</th>\n",
       "      <th>review_palate</th>\n",
       "      <th>review_taste</th>\n",
       "      <th>beer_abv</th>\n",
       "    </tr>\n",
       "  </thead>\n",
       "  <tbody>\n",
       "    <tr>\n",
       "      <th>review_aroma</th>\n",
       "      <td>1.000000</td>\n",
       "      <td>0.561029</td>\n",
       "      <td>0.616947</td>\n",
       "      <td>0.716776</td>\n",
       "      <td>0.332570</td>\n",
       "    </tr>\n",
       "    <tr>\n",
       "      <th>review_appearance</th>\n",
       "      <td>0.561029</td>\n",
       "      <td>1.000000</td>\n",
       "      <td>0.566634</td>\n",
       "      <td>0.546980</td>\n",
       "      <td>0.263941</td>\n",
       "    </tr>\n",
       "    <tr>\n",
       "      <th>review_palate</th>\n",
       "      <td>0.616947</td>\n",
       "      <td>0.566634</td>\n",
       "      <td>1.000000</td>\n",
       "      <td>0.734135</td>\n",
       "      <td>0.286711</td>\n",
       "    </tr>\n",
       "    <tr>\n",
       "      <th>review_taste</th>\n",
       "      <td>0.716776</td>\n",
       "      <td>0.546980</td>\n",
       "      <td>0.734135</td>\n",
       "      <td>1.000000</td>\n",
       "      <td>0.290827</td>\n",
       "    </tr>\n",
       "    <tr>\n",
       "      <th>beer_abv</th>\n",
       "      <td>0.332570</td>\n",
       "      <td>0.263941</td>\n",
       "      <td>0.286711</td>\n",
       "      <td>0.290827</td>\n",
       "      <td>1.000000</td>\n",
       "    </tr>\n",
       "  </tbody>\n",
       "</table>\n",
       "</div>"
      ],
      "text/plain": [
       "                   review_aroma  review_appearance  review_palate  \\\n",
       "review_aroma           1.000000           0.561029       0.616947   \n",
       "review_appearance      0.561029           1.000000       0.566634   \n",
       "review_palate          0.616947           0.566634       1.000000   \n",
       "review_taste           0.716776           0.546980       0.734135   \n",
       "beer_abv               0.332570           0.263941       0.286711   \n",
       "\n",
       "                   review_taste  beer_abv  \n",
       "review_aroma           0.716776  0.332570  \n",
       "review_appearance      0.546980  0.263941  \n",
       "review_palate          0.734135  0.286711  \n",
       "review_taste           1.000000  0.290827  \n",
       "beer_abv               0.290827  1.000000  "
      ]
     },
     "execution_count": 15,
     "metadata": {},
     "output_type": "execute_result"
    }
   ],
   "source": [
    "beer_df.corr()"
   ]
  },
  {
   "cell_type": "markdown",
   "id": "6b7ce754",
   "metadata": {},
   "source": [
    "Examine number of instances per `brewery_name`"
   ]
  },
  {
   "cell_type": "code",
   "execution_count": 16,
   "id": "ee9dc507",
   "metadata": {},
   "outputs": [
    {
     "data": {
      "text/plain": [
       "Boston Beer Company (Samuel Adams)    39444\n",
       "Dogfish Head Brewery                  33839\n",
       "Stone Brewing Co.                     33066\n",
       "Sierra Nevada Brewing Co.             28751\n",
       "Bell's Brewery, Inc.                  25191\n",
       "                                      ...  \n",
       "Brauerei Stolz GmbH & Co. KG              1\n",
       "Hausbrauerei Düll                         1\n",
       "Browar Grybów                             1\n",
       "Staro&#269;eský Pivovárek Dobruka        1\n",
       "Spire Brewery                             1\n",
       "Name: brewery_name, Length: 5742, dtype: int64"
      ]
     },
     "execution_count": 16,
     "metadata": {},
     "output_type": "execute_result"
    }
   ],
   "source": [
    "beer_df['brewery_name'].value_counts()"
   ]
  },
  {
   "cell_type": "code",
   "execution_count": 17,
   "id": "4ba50cbe",
   "metadata": {},
   "outputs": [
    {
     "data": {
      "text/plain": [
       "1718"
      ]
     },
     "execution_count": 17,
     "metadata": {},
     "output_type": "execute_result"
    }
   ],
   "source": [
    "(beer_df['brewery_name'].value_counts() < 5).sum()"
   ]
  },
  {
   "cell_type": "markdown",
   "id": "46a33162",
   "metadata": {},
   "source": [
    "NOTE: for now, consider brewery_name with less than 5 instaces to be categorized as `others`"
   ]
  },
  {
   "cell_type": "markdown",
   "id": "cff9d0a7",
   "metadata": {},
   "source": [
    "## 3. Data Preprocessing \n",
    "Simple and straightforward -- just resolving the issue of null values in `beer_abv`. For the brewery name, null values and brewery_name with less than 5 instances are just changed to `unknown/others`. "
   ]
  },
  {
   "cell_type": "code",
   "execution_count": 18,
   "id": "015854ef",
   "metadata": {},
   "outputs": [],
   "source": [
    "# Drop the instances wih null values of `beer_abv`\n",
    "beer_df = beer_df.loc[~beer_df['beer_abv'].isnull()]"
   ]
  },
  {
   "cell_type": "code",
   "execution_count": 19,
   "id": "660ea406",
   "metadata": {},
   "outputs": [],
   "source": [
    "# Change null values of brewery name to unknown/others\n",
    "beer_df.loc[beer_df['brewery_name'].isnull(), 'brewery_name'] = 'unknown/others'"
   ]
  },
  {
   "cell_type": "code",
   "execution_count": 20,
   "id": "494b1382",
   "metadata": {},
   "outputs": [
    {
     "data": {
      "text/plain": [
       "brewery_name         0\n",
       "review_aroma         0\n",
       "review_appearance    0\n",
       "review_palate        0\n",
       "review_taste         0\n",
       "beer_abv             0\n",
       "beer_style           0\n",
       "dtype: int64"
      ]
     },
     "execution_count": 20,
     "metadata": {},
     "output_type": "execute_result"
    }
   ],
   "source": [
    "beer_df.isnull().sum()"
   ]
  },
  {
   "cell_type": "code",
   "execution_count": 21,
   "id": "b4427f21",
   "metadata": {},
   "outputs": [],
   "source": [
    "# Get the names of breweries with counts less than a threshold\n",
    "brewery_name_counts = beer_df['brewery_name'].value_counts()\n",
    "breweries_to_filter = brewery_name_counts[brewery_name_counts < 10].index\n",
    "\n",
    "# Replace 'brewery_name' values for the filtered breweries with 'others'\n",
    "beer_df.loc[beer_df['brewery_name'].isin(breweries_to_filter), 'brewery_name'] = 'unknown/others'"
   ]
  },
  {
   "cell_type": "code",
   "execution_count": 22,
   "id": "d1fa0f50",
   "metadata": {},
   "outputs": [],
   "source": [
    "# # Get the names of breweries with counts less than a threshold\n",
    "# brewery_name_counts = beer_df['brewery_name'].value_counts()\n",
    "# breweries_to_filter = brewery_name_counts[brewery_name_counts < 10].index\n",
    "\n",
    "# # Replace 'brewery_name' values for the filtered breweries with 'others'\n",
    "# beer_df = beer_df[~beer_df['brewery_name'].isin(breweries_to_filter)] "
   ]
  },
  {
   "cell_type": "code",
   "execution_count": 23,
   "id": "3f56ffcc",
   "metadata": {},
   "outputs": [
    {
     "data": {
      "text/plain": [
       "Boston Beer Company (Samuel Adams)    38812\n",
       "Dogfish Head Brewery                  33800\n",
       "Stone Brewing Co.                     33022\n",
       "Sierra Nevada Brewing Co.             28637\n",
       "Bell's Brewery, Inc.                  24975\n",
       "                                      ...  \n",
       "Cervejaria Bodebrown Ltda.               10\n",
       "Ostankinskiy Pivovarinniy Zavod          10\n",
       "Blacksburg Brewing Company               10\n",
       "Alina S.R.L.                             10\n",
       "Solvang Brewing Company                  10\n",
       "Name: brewery_name, Length: 2847, dtype: int64"
      ]
     },
     "execution_count": 23,
     "metadata": {},
     "output_type": "execute_result"
    }
   ],
   "source": [
    "beer_df['brewery_name'].value_counts()"
   ]
  },
  {
   "cell_type": "code",
   "execution_count": 24,
   "id": "0486a8e4",
   "metadata": {},
   "outputs": [
    {
     "data": {
      "text/html": [
       "<div>\n",
       "<style scoped>\n",
       "    .dataframe tbody tr th:only-of-type {\n",
       "        vertical-align: middle;\n",
       "    }\n",
       "\n",
       "    .dataframe tbody tr th {\n",
       "        vertical-align: top;\n",
       "    }\n",
       "\n",
       "    .dataframe thead th {\n",
       "        text-align: right;\n",
       "    }\n",
       "</style>\n",
       "<table border=\"1\" class=\"dataframe\">\n",
       "  <thead>\n",
       "    <tr style=\"text-align: right;\">\n",
       "      <th></th>\n",
       "      <th>review_aroma</th>\n",
       "      <th>review_appearance</th>\n",
       "      <th>review_palate</th>\n",
       "      <th>review_taste</th>\n",
       "      <th>beer_abv</th>\n",
       "    </tr>\n",
       "  </thead>\n",
       "  <tbody>\n",
       "    <tr>\n",
       "      <th>count</th>\n",
       "      <td>1.518829e+06</td>\n",
       "      <td>1.518829e+06</td>\n",
       "      <td>1.518829e+06</td>\n",
       "      <td>1.518829e+06</td>\n",
       "      <td>1.518829e+06</td>\n",
       "    </tr>\n",
       "    <tr>\n",
       "      <th>mean</th>\n",
       "      <td>3.746163e+00</td>\n",
       "      <td>3.850344e+00</td>\n",
       "      <td>3.753680e+00</td>\n",
       "      <td>3.804013e+00</td>\n",
       "      <td>7.042387e+00</td>\n",
       "    </tr>\n",
       "    <tr>\n",
       "      <th>std</th>\n",
       "      <td>6.953980e-01</td>\n",
       "      <td>6.143443e-01</td>\n",
       "      <td>6.793850e-01</td>\n",
       "      <td>7.286724e-01</td>\n",
       "      <td>2.322526e+00</td>\n",
       "    </tr>\n",
       "    <tr>\n",
       "      <th>min</th>\n",
       "      <td>1.000000e+00</td>\n",
       "      <td>0.000000e+00</td>\n",
       "      <td>1.000000e+00</td>\n",
       "      <td>1.000000e+00</td>\n",
       "      <td>1.000000e-02</td>\n",
       "    </tr>\n",
       "    <tr>\n",
       "      <th>25%</th>\n",
       "      <td>3.500000e+00</td>\n",
       "      <td>3.500000e+00</td>\n",
       "      <td>3.500000e+00</td>\n",
       "      <td>3.500000e+00</td>\n",
       "      <td>5.200000e+00</td>\n",
       "    </tr>\n",
       "    <tr>\n",
       "      <th>50%</th>\n",
       "      <td>4.000000e+00</td>\n",
       "      <td>4.000000e+00</td>\n",
       "      <td>4.000000e+00</td>\n",
       "      <td>4.000000e+00</td>\n",
       "      <td>6.500000e+00</td>\n",
       "    </tr>\n",
       "    <tr>\n",
       "      <th>75%</th>\n",
       "      <td>4.000000e+00</td>\n",
       "      <td>4.000000e+00</td>\n",
       "      <td>4.000000e+00</td>\n",
       "      <td>4.500000e+00</td>\n",
       "      <td>8.500000e+00</td>\n",
       "    </tr>\n",
       "    <tr>\n",
       "      <th>max</th>\n",
       "      <td>5.000000e+00</td>\n",
       "      <td>5.000000e+00</td>\n",
       "      <td>5.000000e+00</td>\n",
       "      <td>5.000000e+00</td>\n",
       "      <td>5.770000e+01</td>\n",
       "    </tr>\n",
       "  </tbody>\n",
       "</table>\n",
       "</div>"
      ],
      "text/plain": [
       "       review_aroma  review_appearance  review_palate  review_taste  \\\n",
       "count  1.518829e+06       1.518829e+06   1.518829e+06  1.518829e+06   \n",
       "mean   3.746163e+00       3.850344e+00   3.753680e+00  3.804013e+00   \n",
       "std    6.953980e-01       6.143443e-01   6.793850e-01  7.286724e-01   \n",
       "min    1.000000e+00       0.000000e+00   1.000000e+00  1.000000e+00   \n",
       "25%    3.500000e+00       3.500000e+00   3.500000e+00  3.500000e+00   \n",
       "50%    4.000000e+00       4.000000e+00   4.000000e+00  4.000000e+00   \n",
       "75%    4.000000e+00       4.000000e+00   4.000000e+00  4.500000e+00   \n",
       "max    5.000000e+00       5.000000e+00   5.000000e+00  5.000000e+00   \n",
       "\n",
       "           beer_abv  \n",
       "count  1.518829e+06  \n",
       "mean   7.042387e+00  \n",
       "std    2.322526e+00  \n",
       "min    1.000000e-02  \n",
       "25%    5.200000e+00  \n",
       "50%    6.500000e+00  \n",
       "75%    8.500000e+00  \n",
       "max    5.770000e+01  "
      ]
     },
     "execution_count": 24,
     "metadata": {},
     "output_type": "execute_result"
    }
   ],
   "source": [
    "# Check the range of values\n",
    "beer_df.describe()"
   ]
  },
  {
   "cell_type": "markdown",
   "id": "a413e1e9",
   "metadata": {},
   "source": [
    "Store the brewery names"
   ]
  },
  {
   "cell_type": "code",
   "execution_count": 36,
   "id": "f4cab176",
   "metadata": {},
   "outputs": [],
   "source": [
    "sorted_brewery_names = sorted(beer_df['brewery_name'].unique())\n",
    "\n",
    "with open('../models/brewery_names.pkl', 'wb') as file:\n",
    "    pickle.dump(sorted_brewery_names, file)"
   ]
  },
  {
   "cell_type": "markdown",
   "id": "f1eefdcd",
   "metadata": {},
   "source": [
    "## 4. Modeling "
   ]
  },
  {
   "cell_type": "markdown",
   "id": "0f303e3e",
   "metadata": {},
   "source": [
    "Modeling Parameters"
   ]
  },
  {
   "cell_type": "code",
   "execution_count": null,
   "id": "e5609277",
   "metadata": {},
   "outputs": [],
   "source": [
    "# Find the hyperparams based on the scoring value \n",
    "scoring = 'f1'\n",
    "\n",
    "# Define search grid\n",
    "param_grid = {'classifier__n_neighbors': [1, 3, 5, 7, 9, 11]}\n",
    "param_grid = {'classifier__n_neighbors': [1]}\n",
    "\n",
    "# CV\n",
    "cv = 5\n",
    "\n",
    "# Set if gridsearch will be performed: NOTE: this should be False if Gridsearch will not be performed\n",
    "gridsearch = False"
   ]
  },
  {
   "cell_type": "markdown",
   "id": "ccaace3e",
   "metadata": {},
   "source": [
    "#### 4.1 Split Data"
   ]
  },
  {
   "cell_type": "code",
   "execution_count": null,
   "id": "9b74acbe",
   "metadata": {},
   "outputs": [],
   "source": [
    "# Split the data into training and testing sets\n",
    "X = beer_df.drop(columns=[response])\n",
    "y = beer_df[response]\n",
    "\n",
    "# Stratify based on response\n",
    "X_train, X_test, y_train, y_test = train_test_split(X, y, test_size=0.2, random_state=42)"
   ]
  },
  {
   "cell_type": "markdown",
   "id": "0ad5c530",
   "metadata": {},
   "source": [
    "#### 4.2 Build Pipeline"
   ]
  },
  {
   "cell_type": "code",
   "execution_count": null,
   "id": "d52054f7",
   "metadata": {},
   "outputs": [],
   "source": [
    "n_classes = beer_df[response].nunique()\n",
    "\n",
    "# Create tx for num and cat features\n",
    "num_transformer = Pipeline(steps = [\n",
    "    ('scaler', StandardScaler())\n",
    "])\n",
    "\n",
    "cat_transformer = Pipeline(steps = [\n",
    "    ('one-hot-encoder', OneHotEncoder(sparse=False, drop='first'))\n",
    "])\n",
    "\n",
    "# Combine the tx\n",
    "preprocessor = ColumnTransformer(\n",
    "    transformers=[\n",
    "        ('num_cols', num_transformer, num_features),\n",
    "        ('cat_cols', cat_transformer, cat_features),\n",
    "    ]\n",
    ")\n",
    "\n",
    "# Instantiate a kNN Classifier\n",
    "knn_classifier = KNeighborsClassifier()\n",
    "\n",
    "# Make a kNN pipeline\n",
    "knn_pipeline = Pipeline(steps=[\n",
    "    ('preprocessor', preprocessor),\n",
    "    ('classifier', knn_classifier)\n",
    "    ]\n",
    ")"
   ]
  },
  {
   "cell_type": "markdown",
   "id": "0092b733",
   "metadata": {},
   "source": [
    "#### 4.3a Experiment through Gridsearch\n",
    "NOTE: Encountered some problems due to high imbalanced data -- attemp to perform this without CV in subsection `4.3b`."
   ]
  },
  {
   "cell_type": "code",
   "execution_count": null,
   "id": "db955491",
   "metadata": {},
   "outputs": [],
   "source": [
    "if gridsearch:\n",
    "    # Create the grid search\n",
    "    grid_search = GridSearchCV(pipeline, param_grid, cv=5, scoring=scoring)\n",
    "\n",
    "    # Fit the grid search to the training data\n",
    "    grid_search.fit(X_train, y_train)"
   ]
  },
  {
   "cell_type": "code",
   "execution_count": null,
   "id": "31b476ee",
   "metadata": {},
   "outputs": [],
   "source": [
    "if gridsearch: \n",
    "    # Get the best hyperparameters\n",
    "    best_k = grid_search.best_params_['classifier__n_neighbors']\n",
    "    best_pipeline = grid_search.best_estimator_\n",
    "    print(f\"Best k: {best_k}\")"
   ]
  },
  {
   "cell_type": "markdown",
   "id": "4e5fc7b7",
   "metadata": {},
   "source": [
    "#### 4.3b Experiment -- different k values"
   ]
  },
  {
   "cell_type": "code",
   "execution_count": null,
   "id": "2a448985",
   "metadata": {},
   "outputs": [],
   "source": [
    "from sklearn.metrics import accuracy_score, f1_score, roc_auc_score, classification_report\n",
    "\n",
    "def train_knn_model(k, X_train, X_test, y_train, y_test, num_features, cat_features):\n",
    "    # Create pieline\n",
    "    num_transformer = Pipeline(steps=[\n",
    "        ('scaler', StandardScaler())\n",
    "    ])\n",
    "\n",
    "    cat_transformer = Pipeline(steps=[\n",
    "        ('onehot', OneHotEncoder())\n",
    "    ])\n",
    "\n",
    "    preprocessor = ColumnTransformer(\n",
    "        transformers=[\n",
    "            ('num', num_transformer, num_features),\n",
    "            ('cat', cat_transformer, cat_features)\n",
    "        ])\n",
    "\n",
    "    knn_classifier = KNeighborsClassifier(n_neighbors=k)\n",
    "\n",
    "    pipeline = Pipeline(steps=[\n",
    "        ('preprocessor', preprocessor),\n",
    "        ('classifier', knn_classifier)\n",
    "    ])\n",
    "\n",
    "    # Fit model\n",
    "    pipeline.fit(X_train, y_train)\n",
    "\n",
    "    # Prediction\n",
    "    y_pred = pipeline.predict(X_test)\n",
    "\n",
    "    # Evaluate \n",
    "    accuracy = accuracy_score(y_test, y_pred)\n",
    "#     f1 = f1_score(y_test, y_pred,average='micro')\n",
    "#     roc_auc = roc_auc_score(y_test, y_pred)\n",
    "\n",
    "    print(f\"Accuracy: {accuracy:.2f}\")\n",
    "#     print(f\"F1 Score: {f1:.2f}\")\n",
    "#     print(f\"ROC AUC Score: {roc_auc:.2f}\")\n",
    "\n",
    "    return pipeline\n"
   ]
  },
  {
   "cell_type": "code",
   "execution_count": null,
   "id": "39148a4a",
   "metadata": {},
   "outputs": [],
   "source": [
    "from joblib import dump"
   ]
  },
  {
   "cell_type": "code",
   "execution_count": null,
   "id": "f57420e7",
   "metadata": {},
   "outputs": [],
   "source": [
    "# Fit with k=3\n",
    "knn_pipeline_k3 = train_knn_model(3, X_train, X_test, y_train, y_test, num_features, cat_features)"
   ]
  },
  {
   "cell_type": "code",
   "execution_count": null,
   "id": "771e8ed5",
   "metadata": {},
   "outputs": [],
   "source": [
    "dump(knn_pipeline_k3, '../model/knn-k3.joblib')"
   ]
  },
  {
   "cell_type": "code",
   "execution_count": null,
   "id": "e4b5fd0c",
   "metadata": {},
   "outputs": [],
   "source": [
    "# Fit with k=5\n",
    "knn_pipeline_k5 = train_knn_model(5, X_train, X_test, y_train, y_test, num_features, cat_features)"
   ]
  },
  {
   "cell_type": "code",
   "execution_count": null,
   "id": "6cb1dfb4",
   "metadata": {},
   "outputs": [],
   "source": [
    "dump(knn_pipeline_k5, '../model/knn-k5.joblib')"
   ]
  },
  {
   "cell_type": "code",
   "execution_count": null,
   "id": "a8547fa3",
   "metadata": {},
   "outputs": [],
   "source": [
    "knn_pipeline_k3.predict(X_train)"
   ]
  },
  {
   "cell_type": "code",
   "execution_count": null,
   "id": "533286e1",
   "metadata": {},
   "outputs": [],
   "source": []
  }
 ],
 "metadata": {
  "kernelspec": {
   "display_name": "Python 3 (ipykernel)",
   "language": "python",
   "name": "python3"
  },
  "language_info": {
   "codemirror_mode": {
    "name": "ipython",
    "version": 3
   },
   "file_extension": ".py",
   "mimetype": "text/x-python",
   "name": "python",
   "nbconvert_exporter": "python",
   "pygments_lexer": "ipython3",
   "version": "3.11.4"
  }
 },
 "nbformat": 4,
 "nbformat_minor": 5
}
